{
  "nbformat": 4,
  "nbformat_minor": 0,
  "metadata": {
    "colab": {
      "name": "deep_speech_distances.ipynb",
      "provenance": [],
      "toc_visible": true,
      "include_colab_link": true
    },
    "kernelspec": {
      "name": "python3",
      "display_name": "Python 3"
    },
    "accelerator": "GPU"
  },
  "cells": [
    {
      "cell_type": "markdown",
      "metadata": {
        "id": "view-in-github",
        "colab_type": "text"
      },
      "source": [
        "<a href=\"https://colab.research.google.com/github/wilwal23/google-colabs/blob/main/gan2tts.ipynb\" target=\"_parent\"><img src=\"https://colab.research.google.com/assets/colab-badge.svg\" alt=\"Open In Colab\"/></a>"
      ]
    },
    {
      "cell_type": "markdown",
      "metadata": {
        "id": "Auv5IERvrEUU"
      },
      "source": [
        "This notebook provides a demo for the use of **DeepSpeech Distances** proposed in [High Fidelity Speech Synthesis with Adversarial Networks](https://arxiv.org/abs/1909.11646) as new evaluation metrics for neural speech synthesis.\n",
        "\n",
        "The computation involves estimating Fréchet and Kernel distances between high-level features of the reference and the examined samples extracted from [NVIDIA's DeepSpeech2](https://nvidia.github.io/OpenSeq2Seq/html/speech-recognition/deepspeech2.html) model.\n",
        "\n",
        "We propose four distances:\n",
        "\n",
        "\n",
        "*   *Fréchet DeepSpeech Distance* (*FDSD*, based on FID, see [2])\n",
        "*   *Kernel DeepSpeech Distance* (*KDSD*, based on KID, see [3])\n",
        "*   *conditional Fréchet DeepSpeech Distance* (*cFDSD*),\n",
        "*   *conditional Kernel DeepSpeech Distance* (*cKDSD*).\n",
        "\n",
        "The conditional distances compare samples with the same conditioning (e.g. text) and asses conditional quality of the audio. The uncoditional ones compare random samples from two distributions and asses general quality of audio. For more details, see [1].\n",
        "\n",
        "**References**\n",
        "\n",
        "[1] Mikołaj Bińkowski, Jeff Donahue, Sander Dieleman, Aidan Clark, Erich Elsen, Norman Casagrande, Luis C. Cobo, Karen Simonyan, [*High Fidelity Speech Synthesis with Adversarial Networks*](https://arxiv.org/abs/1909.11646), ICLR 2020.\n",
        "\n",
        "[2] Martin Heusel, Hubert Ramsauer, Thomas Unterthiner, Bernhard Nessler, Sepp Hochreiter, [*GANs Trained by a Two Time-Scale Update Rule Converge to a Local Nash Equilibrium*](https://arxiv.org/abs/1706.08500), NeurIPS 2017.\n",
        "\n",
        "[3] Mikołaj Bińkowski, Dougal J. Sutherland, Michael Arbel, Arthur Gretton, [*Demystifying MMD GANs*](https://arxiv.org/abs/1801.01401), ICLR 2018.\n"
      ]
    },
    {
      "cell_type": "markdown",
      "metadata": {
        "id": "pku8uwQswd6y"
      },
      "source": [
        "**Demo**\n",
        "\n",
        "Firsty, install dependencies and download the checkpoint of the pretrained DeepSpeech2 model."
      ]
    },
    {
      "cell_type": "code",
      "metadata": {
        "id": "OGDEmf-Uq2SO",
        "outputId": "f5ce3197-d949-4322-e580-bed8d6d1f9eb",
        "colab": {
          "base_uri": "https://localhost:8080/",
          "height": 360
        }
      },
      "source": [
        "!pip install python_speech_features\n",
        "!pip install resampy\n",
        "!pip install scipy\n",
        "!pip install gdown\n",
        "!pip install tqdm -U"
      ],
      "execution_count": null,
      "outputs": [
        {
          "output_type": "stream",
          "text": [
            "Requirement already satisfied: python_speech_features in /usr/local/lib/python3.6/dist-packages (0.6)\n",
            "Requirement already satisfied: resampy in /usr/local/lib/python3.6/dist-packages (0.2.2)\n",
            "Requirement already satisfied: six>=1.3 in /usr/local/lib/python3.6/dist-packages (from resampy) (1.12.0)\n",
            "Requirement already satisfied: numpy>=1.10 in /usr/local/lib/python3.6/dist-packages (from resampy) (1.17.5)\n",
            "Requirement already satisfied: numba>=0.32 in /usr/local/lib/python3.6/dist-packages (from resampy) (0.47.0)\n",
            "Requirement already satisfied: scipy>=0.13 in /usr/local/lib/python3.6/dist-packages (from resampy) (1.4.1)\n",
            "Requirement already satisfied: setuptools in /usr/local/lib/python3.6/dist-packages (from numba>=0.32->resampy) (45.1.0)\n",
            "Requirement already satisfied: llvmlite>=0.31.0dev0 in /usr/local/lib/python3.6/dist-packages (from numba>=0.32->resampy) (0.31.0)\n",
            "Requirement already satisfied: scipy in /usr/local/lib/python3.6/dist-packages (1.4.1)\n",
            "Requirement already satisfied: numpy>=1.13.3 in /usr/local/lib/python3.6/dist-packages (from scipy) (1.17.5)\n",
            "Requirement already satisfied: gdown in /usr/local/lib/python3.6/dist-packages (3.6.4)\n",
            "Requirement already satisfied: six in /usr/local/lib/python3.6/dist-packages (from gdown) (1.12.0)\n",
            "Requirement already satisfied: tqdm in /usr/local/lib/python3.6/dist-packages (from gdown) (4.42.1)\n",
            "Requirement already satisfied: requests in /usr/local/lib/python3.6/dist-packages (from gdown) (2.21.0)\n",
            "Requirement already satisfied: chardet<3.1.0,>=3.0.2 in /usr/local/lib/python3.6/dist-packages (from requests->gdown) (3.0.4)\n",
            "Requirement already satisfied: certifi>=2017.4.17 in /usr/local/lib/python3.6/dist-packages (from requests->gdown) (2019.11.28)\n",
            "Requirement already satisfied: urllib3<1.25,>=1.21.1 in /usr/local/lib/python3.6/dist-packages (from requests->gdown) (1.24.3)\n",
            "Requirement already satisfied: idna<2.9,>=2.5 in /usr/local/lib/python3.6/dist-packages (from requests->gdown) (2.8)\n",
            "Requirement already up-to-date: tqdm in /usr/local/lib/python3.6/dist-packages (4.42.1)\n"
          ],
          "name": "stdout"
        }
      ]
    },
    {
      "cell_type": "markdown",
      "metadata": {
        "id": "M2atdmD4NpcL"
      },
      "source": [
        "Set up evaluation parameters and paths within the mounted Google Drive. Clone repository and download checkpoint."
      ]
    },
    {
      "cell_type": "code",
      "metadata": {
        "id": "8DFrqisKRUYg",
        "outputId": "de17210c-f9e4-4484-b8a1-3e7b5a3ba1c5",
        "colab": {
          "base_uri": "https://localhost:8080/",
          "height": 306
        }
      },
      "source": [
        "PATH = '/content/drive/My Drive/DeepSpeechDistances'\n",
        "SAMPLE_PATH = '/content/drive/My Drive/DeepSpeechDistances/abstract_samples'\n",
        "NUM_SPLITS = 3  # number of data splits to comute std of DSD\n",
        "SAMPLES_PER_SPLIT = 500  # number of samples in a single DSD run.\n",
        "# We recommend at least 10k samples for evaluation to get reasonable estimates.\n",
        "AUDIO_LENGTH = 2  # length of individual sample, in seconds\n",
        "NUM_NOISE_LEVELS = 3  # number of different noise levels for samples to evaluate\n",
        "\n",
        "from google.colab import drive\n",
        "drive.mount('/content/drive/', force_remount=True)\n",
        "import sys, os\n",
        "sh = lambda path: \"'\" + path + \"'\"\n",
        "\n",
        "if not os.path.exists(PATH):\n",
        "  !git clone https://github.com/mbinkowski/DeepSpeechDistances.git {sh(PATH)}\n",
        "else:\n",
        "  print('Found DeepSpeechDistances directory, skipping git clone.')\n",
        "sys.path.append(PATH)\n",
        "\n",
        "if not os.path.exists(os.path.join(PATH, 'checkpoint', 'ds2_large')):\n",
        "  CKPT = sh(PATH + '/ds2.tar.gz')\n",
        "  !gdown https://drive.google.com/uc?id=1EDvL9wMCO2vVE-ynBvpwkFTultbzLNQX -O {CKPT}\n",
        "  !tar -C {sh(PATH +'/checkpoint/')} -xvf {CKPT}\n",
        "  !rm {CKPT}\n",
        "else:\n",
        "  print('Found checkpoint directory, skipping download.')"
      ],
      "execution_count": null,
      "outputs": [
        {
          "output_type": "stream",
          "text": [
            "Mounted at /content/drive/\n",
            "Cloning into '/content/drive/My Drive/DeepSpeechDistances'...\n",
            "remote: Enumerating objects: 171, done.\u001b[K\n",
            "remote: Counting objects: 100% (171/171), done.\u001b[K\n",
            "remote: Compressing objects: 100% (129/129), done.\u001b[K\n",
            "remote: Total 171 (delta 104), reused 88 (delta 41), pack-reused 0\u001b[K\n",
            "Receiving objects: 100% (171/171), 3.03 MiB | 6.03 MiB/s, done.\n",
            "Resolving deltas: 100% (104/104), done.\n",
            "Downloading...\n",
            "From: https://drive.google.com/uc?id=1EDvL9wMCO2vVE-ynBvpwkFTultbzLNQX\n",
            "To: /content/drive/My Drive/DeepSpeechDistances/ds2.tar.gz\n",
            "1.01GB [00:05, 199MB/s]\n",
            "ds2_large/\n",
            "ds2_large/checkpoint\n",
            "ds2_large/model.ckpt-54800.index\n",
            "ds2_large/model.ckpt-54800.data-00000-of-00001\n",
            "ds2_large/model.ckpt-54800.meta\n"
          ],
          "name": "stdout"
        }
      ]
    },
    {
      "cell_type": "markdown",
      "metadata": {
        "id": "50D2pu1vRZq2"
      },
      "source": [
        "Do other necessary imports."
      ]
    },
    {
      "cell_type": "code",
      "metadata": {
        "id": "r5NJ4LspRTnm",
        "outputId": "93951a89-5645-4eb8-eadd-298e3b58a3af",
        "colab": {
          "base_uri": "https://localhost:8080/",
          "height": 71
        }
      },
      "source": [
        "%tensorflow_version 1.x\n",
        "import tensorflow.compat.v1 as tf\n",
        "tf.disable_eager_execution()\n",
        "import audio_distance\n",
        "from sample_utils import subsample_audio"
      ],
      "execution_count": null,
      "outputs": [
        {
          "output_type": "stream",
          "text": [
            "WARNING:tensorflow:From /usr/local/lib/python3.6/dist-packages/tensorflow_gan/python/estimator/tpu_gan_estimator.py:42: The name tf.estimator.tpu.TPUEstimator is deprecated. Please use tf.compat.v1.estimator.tpu.TPUEstimator instead.\n",
            "\n"
          ],
          "name": "stdout"
        }
      ]
    },
    {
      "cell_type": "markdown",
      "metadata": {
        "id": "EyJcsGqsrTWs"
      },
      "source": [
        "Create random 2-second samples from source audio file.\n",
        "\n",
        "By default, we use our generated abstract ([1]) as a source of both clean reference samples and noise-corrupted samples for examination.\n",
        "\n",
        "User can specify other audio files; in principle, DeepSpeech Distances require reference samples (e.g. real speech) and samples to be examined, all of the sample length. Although this demo uses a smaller number for the sake of fast computation, we suggest using at least 10,000 samples per each set, to obtain good estimates of the distances."
      ]
    },
    {
      "cell_type": "code",
      "metadata": {
        "id": "DN-RAAvcvyJc",
        "outputId": "5898760d-1f09-4309-82a8-a239869c71aa",
        "colab": {
          "base_uri": "https://localhost:8080/",
          "height": 34
        }
      },
      "source": [
        "subsample_audio(os.path.join(PATH, 'abstract.wav'),\n",
        "                SAMPLE_PATH,\n",
        "                num_samples=NUM_SPLITS * SAMPLES_PER_SPLIT,\n",
        "                length=AUDIO_LENGTH,\n",
        "                num_noise_levels=NUM_NOISE_LEVELS)"
      ],
      "execution_count": null,
      "outputs": [
        {
          "output_type": "stream",
          "text": [
            "Saving audio sample files: 100%|██████████| 3000/3000 [02:22<00:00, 21.04it/s]\n"
          ],
          "name": "stderr"
        }
      ]
    },
    {
      "cell_type": "markdown",
      "metadata": {
        "id": "VZhTnYVm0Bwa"
      },
      "source": [
        "Create evaluator object and load reference samples."
      ]
    },
    {
      "cell_type": "code",
      "metadata": {
        "id": "yo3s1y7mR39j",
        "outputId": "2aa5ae31-0ce2-493e-96c2-794b2935e688",
        "colab": {
          "base_uri": "https://localhost:8080/",
          "height": 139
        }
      },
      "source": [
        "reference_path = os.path.join(SAMPLE_PATH, 'ref', '*.wav')\n",
        "eval_paths = [os.path.join(SAMPLE_PATH, f'noisy_{i+1}', '*.wav') for i\n",
        "              in range(NUM_NOISE_LEVELS)]\n",
        "\n",
        "evaluator = audio_distance.AudioDistance(\n",
        "    load_path=os.path.join(PATH, 'checkpoint', 'ds2_large', 'model.ckpt-54800'),\n",
        "    meta_path=os.path.join(PATH, 'checkpoint', 'collection-stripped-meta.meta'),\n",
        "    required_sample_size=NUM_SPLITS * SAMPLES_PER_SPLIT,\n",
        "    num_splits=NUM_SPLITS)\n",
        "\n",
        "evaluator.load_real_data(reference_path)"
      ],
      "execution_count": null,
      "outputs": [
        {
          "output_type": "stream",
          "text": [
            "WARNING:tensorflow:From /usr/local/lib/python3.6/dist-packages/tensorflow_probability/python/stats/sample_stats.py:459: where (from tensorflow.python.ops.array_ops) is deprecated and will be removed in a future version.\n",
            "Instructions for updating:\n",
            "Use tf.where in 2.0, which has the same broadcast rule as np.where\n",
            "WARNING:tensorflow:From /usr/local/lib/python3.6/dist-packages/tensorflow_probability/python/stats/sample_stats.py:693: setdiff1d (from tensorflow.python.ops.array_ops) is deprecated and will be removed after 2018-11-30.\n",
            "Instructions for updating:\n",
            "This op will be removed after the deprecation date. Please switch to tf.sets.difference().\n"
          ],
          "name": "stdout"
        }
      ]
    },
    {
      "cell_type": "markdown",
      "metadata": {
        "id": "3O5YBkgdmBho"
      },
      "source": [
        "Carry out distance estimation."
      ]
    },
    {
      "cell_type": "code",
      "metadata": {
        "id": "Z_gZzZs8lNSL",
        "outputId": "a721d723-6583-486a-c9f5-d75cf8019306",
        "colab": {
          "base_uri": "https://localhost:8080/",
          "height": 887
        }
      },
      "source": [
        "dist_names = ['FDSD', 'KDSD', 'cFDSD', 'cKDSD']\n",
        "def print_results(values):\n",
        "  print('\\n' + ', '.join(['%s = %.5f (%.5f)' % (n, v[0], v[1]) for n, v\n",
        "                          in zip(dist_names, values)]))\n",
        "\n",
        "with tf.Session(config=evaluator.sess_config) as sess:\n",
        "  print('Computing reference DeepSpeech distances.')\n",
        "  values = evaluator.get_distance(sess=sess)\n",
        "  print_results(values)\n",
        "  distances = [values]\n",
        "\n",
        "  for eval_path in eval_paths:\n",
        "    print('\\nComputing DeepSpeech distances for files in the directory:\\n'\n",
        "          + os.path.dirname(eval_path))\n",
        "    values = evaluator.get_distance(sess=sess, files=eval_path)\n",
        "    print_results(values)\n",
        "    distances.append(values)"
      ],
      "execution_count": null,
      "outputs": [
        {
          "output_type": "stream",
          "text": [
            "Computing reference DeepSpeech distances.\n",
            "INFO:tensorflow:Restoring parameters from /content/drive/My Drive/DeepSpeechDistances/checkpoint/ds2_large/model.ckpt-54800\n"
          ],
          "name": "stdout"
        },
        {
          "output_type": "stream",
          "text": [
            "\rExtracting DeepSpeech features from reference samples:   0%|          | 0/2976 [00:00<?, ?it/s]"
          ],
          "name": "stderr"
        },
        {
          "output_type": "stream",
          "text": [
            "Checkpoint restored.\n"
          ],
          "name": "stdout"
        },
        {
          "output_type": "stream",
          "text": [
            "Extracting DeepSpeech features from reference samples: 100%|██████████| 2976/2976 [02:40<00:00, 18.53it/s]\n",
            "Extracting DeepSpeech features from samples to evaluate:   0%|          | 0/1488 [00:00<?, ?it/s]"
          ],
          "name": "stderr"
        },
        {
          "output_type": "stream",
          "text": [
            "DeepSpeech2: finished evaluating features, total time%.1fs 160.58556151390076\n"
          ],
          "name": "stdout"
        },
        {
          "output_type": "stream",
          "text": [
            "Extracting DeepSpeech features from samples to evaluate: 100%|██████████| 1488/1488 [01:18<00:00, 18.87it/s]\n"
          ],
          "name": "stderr"
        },
        {
          "output_type": "stream",
          "text": [
            "DeepSpeech2: finished evaluating features, total time%.1fs 78.86826682090759\n",
            "AudioDistance: got features from both samples, computing metrics...\n",
            "AudioDistance: computed metrics from features in %.1fs. 6.669249534606934\n",
            "Evaluation with the same conditioning.\n"
          ],
          "name": "stdout"
        },
        {
          "output_type": "stream",
          "text": [
            "\rExtracting DeepSpeech features from samples to evaluate:   0%|          | 0/1488 [00:00<?, ?it/s]"
          ],
          "name": "stderr"
        },
        {
          "output_type": "stream",
          "text": [
            "AudioDistance: computed metrics from features in %.1fs. 3.8303287029266357\n",
            "AudioDistance: finished evaluation.\n",
            "\n",
            "FDSD = 0.95414 (0.07864), KDSD = -0.00002 (0.00002), cFDSD = 0.00005 (0.00002), cKDSD = -0.00008 (0.00000)\n",
            "\n",
            "Computing DeepSpeech distances for files in the directory:\n",
            "/content/drive/My Drive/DeepSpeechDistances/abstract_samples/noisy_1\n"
          ],
          "name": "stdout"
        },
        {
          "output_type": "stream",
          "text": [
            "Extracting DeepSpeech features from samples to evaluate: 100%|██████████| 1488/1488 [01:17<00:00, 19.29it/s]\n"
          ],
          "name": "stderr"
        },
        {
          "output_type": "stream",
          "text": [
            "DeepSpeech2: finished evaluating features, total time%.1fs 77.15188503265381\n",
            "AudioDistance: got features from both samples, computing metrics...\n",
            "AudioDistance: computed metrics from features in %.1fs. 3.8056063652038574\n",
            "Evaluation with the same conditioning.\n"
          ],
          "name": "stdout"
        },
        {
          "output_type": "stream",
          "text": [
            "\rExtracting DeepSpeech features from samples to evaluate:   0%|          | 0/1488 [00:00<?, ?it/s]"
          ],
          "name": "stderr"
        },
        {
          "output_type": "stream",
          "text": [
            "AudioDistance: computed metrics from features in %.1fs. 3.8733911514282227\n",
            "AudioDistance: finished evaluation.\n",
            "\n",
            "FDSD = 1.06858 (0.10391), KDSD = 0.00001 (0.00004), cFDSD = 0.18677 (0.01912), cKDSD = -0.00007 (0.00000)\n",
            "\n",
            "Computing DeepSpeech distances for files in the directory:\n",
            "/content/drive/My Drive/DeepSpeechDistances/abstract_samples/noisy_2\n"
          ],
          "name": "stdout"
        },
        {
          "output_type": "stream",
          "text": [
            "Extracting DeepSpeech features from samples to evaluate: 100%|██████████| 1488/1488 [01:16<00:00, 19.37it/s]\n"
          ],
          "name": "stderr"
        },
        {
          "output_type": "stream",
          "text": [
            "DeepSpeech2: finished evaluating features, total time%.1fs 76.84328842163086\n",
            "AudioDistance: got features from both samples, computing metrics...\n",
            "AudioDistance: computed metrics from features in %.1fs. 3.8479652404785156\n",
            "Evaluation with the same conditioning.\n"
          ],
          "name": "stdout"
        },
        {
          "output_type": "stream",
          "text": [
            "\rExtracting DeepSpeech features from samples to evaluate:   0%|          | 0/1488 [00:00<?, ?it/s]"
          ],
          "name": "stderr"
        },
        {
          "output_type": "stream",
          "text": [
            "AudioDistance: computed metrics from features in %.1fs. 3.898447036743164\n",
            "AudioDistance: finished evaluation.\n",
            "\n",
            "FDSD = 1.71981 (0.08992), KDSD = 0.00043 (0.00009), cFDSD = 1.13086 (0.01851), cKDSD = 0.00042 (0.00000)\n",
            "\n",
            "Computing DeepSpeech distances for files in the directory:\n",
            "/content/drive/My Drive/DeepSpeechDistances/abstract_samples/noisy_3\n"
          ],
          "name": "stdout"
        },
        {
          "output_type": "stream",
          "text": [
            "Extracting DeepSpeech features from samples to evaluate: 100%|██████████| 1488/1488 [01:17<00:00, 19.25it/s]\n"
          ],
          "name": "stderr"
        },
        {
          "output_type": "stream",
          "text": [
            "DeepSpeech2: finished evaluating features, total time%.1fs 77.31380581855774\n",
            "AudioDistance: got features from both samples, computing metrics...\n",
            "AudioDistance: computed metrics from features in %.1fs. 3.808804512023926\n",
            "Evaluation with the same conditioning.\n",
            "AudioDistance: computed metrics from features in %.1fs. 3.855832815170288\n",
            "AudioDistance: finished evaluation.\n",
            "\n",
            "FDSD = 22.65459 (0.31955), KDSD = 0.03375 (0.00090), cFDSD = 22.91773 (0.14217), cKDSD = 0.03420 (0.00029)\n"
          ],
          "name": "stdout"
        }
      ]
    },
    {
      "cell_type": "markdown",
      "metadata": {
        "id": "bRUra4jx87fB"
      },
      "source": [
        "Plot results.\n",
        "Kernel distances usually give similar numbers (which, in case of small samples, might be negative due to unbiased estimator of MMD). Unconditional Frechet distance differs significantly from the conditional one for reference samples and always gives positive values due to biased estimator."
      ]
    },
    {
      "cell_type": "code",
      "metadata": {
        "id": "71Nq_pNhBW3j",
        "outputId": "6e33696b-9dda-4655-c673-ab0a5e1ee9a3",
        "colab": {
          "base_uri": "https://localhost:8080/",
          "height": 282
        }
      },
      "source": [
        "all_paths = [reference_path] + eval_paths\n",
        "prefix_len = len(os.path.commonpath(all_paths))\n",
        "sample_names = [path[prefix_len + 1:] for path in all_paths]\n",
        "if all([os.path.basename(p) == '*.wav' for p in all_paths]):\n",
        "  sample_names = [name[:-6] for name in sample_names]\n",
        "\n",
        "import matplotlib.pyplot as plt\n",
        "fig, ax = plt.subplots(1, 2, figsize=(12, 4))\n",
        "x = range(NUM_NOISE_LEVELS + 1)\n",
        "for i, kind in enumerate(['Frechet', 'kernel']):\n",
        "  ax[i].set_title(kind + ' distances')\n",
        "  ax[i].set_xticks(x)\n",
        "  ax[i].set_xticklabels(sample_names)\n",
        "  for j in [0, 2]:\n",
        "    k = i + j\n",
        "    ax[i].plot(x, [d[k][0] for d in distances], color='cmyk'[k],\n",
        "               label=dist_names[k])\n",
        "    ax[i].fill_between(x, [d[k][0] - d[k][1] for d in distances],\n",
        "                       [d[k][0] + d[k][1] for d in distances], color='cmyk'[k],\n",
        "                       alpha=.3)\n",
        "  ax[i].legend()\n",
        "  ax[i].grid()"
      ],
      "execution_count": null,
      "outputs": [
        {
          "output_type": "display_data",
          "data": {
            "image/png": "[encoded data removed]",
            "text/plain": [
              "<Figure size 864x288 with 2 Axes>"
            ]
          },
          "metadata": {
            "tags": []
          }
        }
      ]
    },
    {
      "cell_type": "code",
      "metadata": {
        "id": "QCRH9qofQBS0"
      },
      "source": [
        "drive.flush_and_unmount()"
      ],
      "execution_count": null,
      "outputs": []
    }
  ]
}