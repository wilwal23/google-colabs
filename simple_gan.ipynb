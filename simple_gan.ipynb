{
  "nbformat": 4,
  "nbformat_minor": 0,
  "metadata": {
    "colab": {
      "provenance": [],
      "gpuType": "T4",
      "authorship_tag": "ABX9TyMIB4UCmEVMK5d2I/MPuvCW",
      "include_colab_link": true
    },
    "kernelspec": {
      "name": "python3",
      "display_name": "Python 3"
    },
    "language_info": {
      "name": "python"
    },
    "accelerator": "GPU"
  },
  "cells": [
    {
      "cell_type": "markdown",
      "metadata": {
        "id": "view-in-github",
        "colab_type": "text"
      },
      "source": [
        "<a href=\"https://colab.research.google.com/github/wilwal23/google-colabs/blob/main/simple_gan.ipynb\" target=\"_parent\"><img src=\"https://colab.research.google.com/assets/colab-badge.svg\" alt=\"Open In Colab\"/></a>"
      ]
    },
    {
      "cell_type": "code",
      "source": [
        "import torch\n",
        "import torch.nn as nn\n",
        "import torch.optim as optim"
      ],
      "metadata": {
        "id": "YMS7DFK5hg5X"
      },
      "execution_count": 11,
      "outputs": []
    },
    {
      "cell_type": "code",
      "source": [
        "from torch.utils.data import Dataset\n",
        "from torchvision import datasets\n",
        "from torch.utils.data import DataLoader\n",
        "from torchvision.transforms import ToTensor\n",
        "\n",
        "training_data = datasets.FashionMNIST(\n",
        "    root=\"data\",\n",
        "    train=True,\n",
        "    download=True,\n",
        "    transform=ToTensor()\n",
        ")\n",
        "\n",
        "test_data = datasets.FashionMNIST(\n",
        "    root=\"data\",\n",
        "    train=False,\n",
        "    download=True,\n",
        "    transform=ToTensor()\n",
        ")\n",
        "\n",
        "train_dataloader = DataLoader(training_data, batch_size=64, shuffle=True)\n",
        "test_dataloader = DataLoader(test_data, batch_size=64, shuffle=True)"
      ],
      "metadata": {
        "id": "t97IBBZLvD41"
      },
      "execution_count": null,
      "outputs": []
    },
    {
      "cell_type": "code",
      "source": [
        "import matplotlib.pyplot as plt\n",
        "\n",
        "labels_map = {\n",
        "    0: \"T-Shirt\",\n",
        "    1: \"Trouser\",\n",
        "    2: \"Pullover\",\n",
        "    3: \"Dress\",\n",
        "    4: \"Coat\",\n",
        "    5: \"Sandal\",\n",
        "    6: \"Shirt\",\n",
        "    7: \"Sneaker\",\n",
        "    8: \"Bag\",\n",
        "    9: \"Ankle Boot\",\n",
        "}\n",
        "figure = plt.figure(figsize=(8, 8))\n",
        "cols, rows = 3, 3\n",
        "for i in range(1, cols * rows + 1):\n",
        "    sample_idx = torch.randint(len(training_data), size=(1,)).item()\n",
        "    img, label = training_data[sample_idx]\n",
        "    figure.add_subplot(rows, cols, i)\n",
        "    plt.title(labels_map[label])\n",
        "    plt.axis(\"off\")\n",
        "    plt.imshow(img.squeeze(), cmap=\"gray\")\n",
        "plt.show()"
      ],
      "metadata": {
        "id": "_yqj1TC-vTpd"
      },
      "execution_count": null,
      "outputs": []
    },
    {
      "cell_type": "code",
      "source": [
        "torch.cuda.is_available()"
      ],
      "metadata": {
        "id": "5U2Rtoy_sRs1",
        "outputId": "aca92c36-b980-4419-d7bd-3bd9f45cf87f",
        "colab": {
          "base_uri": "https://localhost:8080/"
        }
      },
      "execution_count": 7,
      "outputs": [
        {
          "output_type": "execute_result",
          "data": {
            "text/plain": [
              "True"
            ]
          },
          "metadata": {},
          "execution_count": 7
        }
      ]
    },
    {
      "cell_type": "code",
      "source": [
        "class Generator(nn.Module):\n",
        "    def __init__(self, input_size, hidden_size, output_size):\n",
        "        # Call the constructor of the parent class (nn.Module)\n",
        "        super(Generator, self).__init__()\n",
        "\n",
        "        # Define the first fully connected layer\n",
        "        self.fc1 = nn.Linear(input_size, hidden_size)\n",
        "\n",
        "        # Define the second fully connected layer\n",
        "        self.fc2 = nn.Linear(hidden_size, output_size)\n",
        "\n",
        "    def forward(self, x):\n",
        "        # Pass the input through the first fully connected layer\n",
        "        x = torch.relu(self.fc1(x))\n",
        "\n",
        "        # Pass the output through the second fully connected layer with tanh activation\n",
        "        x = torch.tanh(self.fc2(x))\n",
        "\n",
        "        # Return the final output\n",
        "        return x"
      ],
      "metadata": {
        "id": "0E2SDIbQhkSx"
      },
      "execution_count": 4,
      "outputs": []
    },
    {
      "cell_type": "code",
      "source": [
        "class Discriminator(nn.Module):\n",
        "    def __init__(self, input_size, hidden_size, output_size):\n",
        "        # Call the constructor of the parent class (nn.Module)\n",
        "        super(Discriminator, self).__init__()\n",
        "\n",
        "        # Define the first fully connected layer\n",
        "        self.fc1 = nn.Linear(input_size, hidden_size)\n",
        "\n",
        "        # Define the second fully connected layer\n",
        "        self.fc2 = nn.Linear(hidden_size, output_size)\n",
        "\n",
        "    def forward(self, x):\n",
        "        # Pass the input through the first fully connected layer with ReLU activation\n",
        "        x = torch.relu(self.fc1(x))\n",
        "\n",
        "        # Pass the output through the second fully connected layer with sigmoid activation\n",
        "        x = torch.sigmoid(self.fc2(x))\n",
        "\n",
        "        # Return the final output\n",
        "        return x"
      ],
      "metadata": {
        "id": "C8fQjMuGiMs6"
      },
      "execution_count": 3,
      "outputs": []
    },
    {
      "cell_type": "code",
      "source": [
        "# Set the device to GPU if available, otherwise use CPU\n",
        "device = torch.device(\"cuda\" if torch.cuda.is_available() else \"cpu\")\n",
        "\n",
        "# Set the input and output sizes for the generator and discriminator\n",
        "input_size = 784  # Assuming input size for both generator and discriminator is the same\n",
        "hidden_size = 256\n",
        "output_size = 1\n",
        "\n",
        "# Create instances of the Discriminator and Generator, and move them to the specified device\n",
        "discriminator = Discriminator(input_size, hidden_size, output_size).to(device)\n",
        "generator = Generator(input_size, hidden_size, output_size).to(device)\n",
        "\n",
        "# Set the loss function (Binary Cross Entropy with Logits) for training the discriminator\n",
        "loss_fn = nn.BCEWithLogitsLoss()\n",
        "\n",
        "# Set the optimizers for the discriminator and generator\n",
        "\n",
        "# Adam optimizer for the discriminator\n",
        "# Parameters: discriminator.parameters() - All parameters of the discriminator\n",
        "# Learning rate: lr=0.0002 - Rate at which the optimizer adjusts the model weights\n",
        "d_optimizer = torch.optim.Adam(discriminator.parameters(), lr=0.0002)\n",
        "\n",
        "# Adam optimizer for the generator\n",
        "# Parameters: generator.parameters() - All parameters of the generator\n",
        "# Learning rate: lr=0.0002 - Rate at which the optimizer adjusts the model weights\n",
        "g_optimizer = torch.optim.Adam(generator.parameters(), lr=0.0002)"
      ],
      "metadata": {
        "id": "qDn_qcftiTMO"
      },
      "execution_count": 10,
      "outputs": []
    },
    {
      "cell_type": "code",
      "source": [
        "# Set the number of training epochs and the size of the noise vector used as input to the generator\n",
        "num_epochs = 200\n",
        "noise_size = 100\n",
        "\n",
        "# Training loop\n",
        "for epoch in range(num_epochs):\n",
        "    # Iterate over batches in the dataloader\n",
        "    for i, (real_images, _) in enumerate(train_dataloader):\n",
        "        # Get the batch size\n",
        "        batch_size = real_images.size(0)\n",
        "          # Generate fake images\n",
        "        noise = torch.randn(batch_size, noise_size).to(device)\n",
        "        fake_images = generator(noise)\n",
        "\n",
        "        # Train the discriminator on real and fake images\n",
        "        d_real = discriminator(real_images)\n",
        "        d_fake = discriminator(fake_images)\n",
        "\n",
        "        # Calculate the loss\n",
        "        real_loss = loss_fn(d_real, torch.ones_like(d_real))\n",
        "        fake_loss = loss_fn(d_fake, torch.zeros_like(d_fake))\n",
        "        d_loss = real_loss + fake_loss\n",
        "\n",
        "        # Backpropagate and optimize\n",
        "        d_optimizer.zero_grad()\n",
        "        d_loss.backward()\n",
        "        d_optimizer.step()\n",
        "\n",
        "        # Train the generator\n",
        "        d_fake = discriminator(fake_images)\n",
        "        g_loss = loss_fn(d_fake, torch.ones_like(d_fake))\n",
        "\n",
        "        # Backpropagate and optimize\n",
        "        g_optimizer.zero_grad()\n",
        "        g_loss.backward()\n",
        "        g_optimizer.step()\n",
        "\n",
        "        # Print the loss every 50 batches\n",
        "        if (i+1) % 50 == 0:\n",
        "          print('Epoch [{}/{}], Step [{}/{}], d_loss: {:.4f}, g_loss: {:.4f}'\n",
        "                .format(epoch+1, num_epochs, i+1, len(train_dataloader), d_loss.item(), g_loss.item()))"
      ],
      "metadata": {
        "id": "HS_iA3yvr9nS"
      },
      "execution_count": null,
      "outputs": []
    }
  ]
}