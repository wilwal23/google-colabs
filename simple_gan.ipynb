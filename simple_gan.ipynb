{
  "nbformat": 4,
  "nbformat_minor": 0,
  "metadata": {
    "colab": {
      "provenance": [],
      "gpuType": "T4",
      "authorship_tag": "ABX9TyMkZtY3ZpaDYgWn5FcFNCR8",
      "include_colab_link": true
    },
    "kernelspec": {
      "name": "python3",
      "display_name": "Python 3"
    },
    "language_info": {
      "name": "python"
    },
    "accelerator": "GPU"
  },
  "cells": [
    {
      "cell_type": "markdown",
      "metadata": {
        "id": "view-in-github",
        "colab_type": "text"
      },
      "source": [
        "<a href=\"https://colab.research.google.com/github/wilwal23/google-colabs/blob/main/simple_gan.ipynb\" target=\"_parent\"><img src=\"https://colab.research.google.com/assets/colab-badge.svg\" alt=\"Open In Colab\"/></a>"
      ]
    },
    {
      "cell_type": "code",
      "source": [
        "import torch\n",
        "import torch.nn as nn\n",
        "import torch.optim as optim"
      ],
      "metadata": {
        "id": "YMS7DFK5hg5X"
      },
      "execution_count": 1,
      "outputs": []
    },
    {
      "cell_type": "code",
      "source": [
        "class Generator(nn.Module):\n",
        "    def __init__(self, input_size, hidden_size, output_size):\n",
        "        # Call the constructor of the parent class (nn.Module)\n",
        "        super(Generator, self).__init__()\n",
        "\n",
        "        # Define the first fully connected layer\n",
        "        self.fc1 = nn.Linear(input_size, hidden_size)\n",
        "\n",
        "        # Define the second fully connected layer\n",
        "        self.fc2 = nn.Linear(hidden_size, output_size)\n",
        "\n",
        "    def forward(self, x):\n",
        "        # Pass the input through the first fully connected layer\n",
        "        x = torch.relu(self.fc1(x))\n",
        "\n",
        "        # Pass the output through the second fully connected layer with tanh activation\n",
        "        x = torch.tanh(self.fc2(x))\n",
        "\n",
        "        # Return the final output\n",
        "        return x"
      ],
      "metadata": {
        "id": "0E2SDIbQhkSx"
      },
      "execution_count": 4,
      "outputs": []
    },
    {
      "cell_type": "code",
      "source": [
        "class Discriminator(nn.Module):\n",
        "    def __init__(self, input_size, hidden_size, output_size):\n",
        "        # Call the constructor of the parent class (nn.Module)\n",
        "        super(Discriminator, self).__init__()\n",
        "\n",
        "        # Define the first fully connected layer\n",
        "        self.fc1 = nn.Linear(input_size, hidden_size)\n",
        "\n",
        "        # Define the second fully connected layer\n",
        "        self.fc2 = nn.Linear(hidden_size, output_size)\n",
        "\n",
        "    def forward(self, x):\n",
        "        # Pass the input through the first fully connected layer with ReLU activation\n",
        "        x = torch.relu(self.fc1(x))\n",
        "\n",
        "        # Pass the output through the second fully connected layer with sigmoid activation\n",
        "        x = torch.sigmoid(self.fc2(x))\n",
        "\n",
        "        # Return the final output\n",
        "        return x"
      ],
      "metadata": {
        "id": "C8fQjMuGiMs6"
      },
      "execution_count": 3,
      "outputs": []
    },
    {
      "cell_type": "code",
      "source": [],
      "metadata": {
        "id": "qDn_qcftiTMO"
      },
      "execution_count": null,
      "outputs": []
    }
  ]
}